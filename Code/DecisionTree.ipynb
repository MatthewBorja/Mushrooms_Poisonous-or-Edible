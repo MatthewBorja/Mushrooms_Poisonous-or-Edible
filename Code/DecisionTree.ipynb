{
  "cells": [
    {
      "cell_type": "markdown",
      "metadata": {
        "id": "7jSvWmG5-gu4"
      },
      "source": [
        "Train a decision tree classifier using mushroom dataset. The nominal attributes are converted to numeric attributes. The twenty-two attributes are:\n",
        "\n",
        "  1. cap-shape:\n",
        "          Bell 0, Conical 1, Convex 2, Flat 3, Knobbed 4, Sunken 5\n",
        "  2. cap-surface:\n",
        "          Fibrous 0, Grooves 1, Scaly 2, Smooth 3\n",
        "  3. cap-color:\n",
        "          Brown 0, Buff 1, Cinnamon 2, Gray 3, Green 4, Pink 5, Purple 6, Red 7, White 8, Yellow 9\n",
        "  4. bruises?:\n",
        "          Bruises 0, No 1\n",
        "  5. odor:\n",
        "          Almond 0, Anise 1, Creosote 2, Fishy 3, Foul 4, Musty 5, None 6, Pungent 7, Spicy 8\n",
        "  6. gill-attachment:\n",
        "          Attached 0, Descending 1, Free 2, Notched 3\n",
        "  7. gill-spacing:\n",
        "          Close 0, Crowded 1, Distant 2\n",
        "  8. gill-size:\n",
        "          Broad 0, Narrow 1\n",
        "  9. gill-color:\n",
        "          Black 0, Brown 1, Buff 2, Chocolate 3, Gray 4, Green 5, Orange 6, Pink 7, Purple 8, Red 9, White 10, Yellow 11\n",
        "  10. stalk-shape:\n",
        "          Enlarging 0, Tapering 1\n",
        "  11. stalk-root:\n",
        "          Bulbous 0, Club 1, Cup 2, Equal 3, Rhizomorphs 4, Rooted 5\n",
        "  12. stalk-surface-above-ring:\n",
        "          Fibrous 0, Scaly 1, Silky 2, Smooth 3\n",
        "  13. stalk-surface-below-ring:\n",
        "          Fibrous 0, Scaly 1, Silky 2, Smooth 3\n",
        "  14. stalk-color-above-ring:\n",
        "          Brown 0, Buff 1, Cinnamon 2, Gray 3, Orange 4, Pink 5, Red 6, White 7, Yellow 8\n",
        "  15. stalk-color-below-ring:\n",
        "          Brown 0, Buff 1, Cinnamon 2, Gray 3, Orange 4, Pink 5, Red 6, White 7, Yellow 8\n",
        "  16. veil-type:\n",
        "          Partial 0, Universal 1\n",
        "  17. veil-color:\n",
        "          Brown 0, Orange 1, White 2, Yellow 3\n",
        "  18. ring-number:\n",
        "          None 0, One 1, Two 2\n",
        "  19. ring-type:\n",
        "          Cobwebby 0, Evanescent 1, Flaring 2, Large 3, None 4, Pendant 5, Sheathing 6, Zone 7\n",
        "  20. spore-print-color:\n",
        "          Black 0, Brown 1, Buff 2, Chocolate 3, Green 4, Orange 5, Purple 6, White 7, Yellow 8\n",
        "  21. population:\n",
        "          Abundant 0, Clustered 1, Numerous 2, Scattered 3, Several 4, Solitary 5\n",
        "  22. habitat:\n",
        "          Grasses 0, Leaves 1, Meadows 2, Paths 3, Urban 4, Waste 5, Woods 6\n",
        "  Classification:\n",
        "          Edible 0, Poisonous 1"
      ]
    },
    {
      "cell_type": "code",
      "execution_count": null,
      "metadata": {
        "id": "5epZx0za3Fxi"
      },
      "outputs": [],
      "source": [
        "import pandas as pd\n",
        "import numpy as np\n",
        "import matplotlib.pyplot as plt\n",
        "from sklearn import tree\n",
        "from google.colab import files\n",
        "from sklearn.tree import DecisionTreeRegressor\n",
        "from sklearn.metrics import mean_squared_error\n",
        "from sklearn.metrics import confusion_matrix, ConfusionMatrixDisplay\n",
        "from sklearn.metrics import accuracy_score\n",
        "from sklearn.metrics import classification_report\n",
        "from sklearn.model_selection import cross_val_score\n",
        "from sklearn.model_selection import train_test_split"
      ]
    },
    {
      "cell_type": "code",
      "execution_count": null,
      "metadata": {
        "colab": {
          "base_uri": "https://localhost:8080/",
          "height": 73
        },
        "id": "mF7srqezkMon",
        "outputId": "7925d684-0002-4857-a4be-bd39a01d61e6"
      },
      "outputs": [
        {
          "output_type": "display_data",
          "data": {
            "text/plain": [
              "<IPython.core.display.HTML object>"
            ],
            "text/html": [
              "\n",
              "     <input type=\"file\" id=\"files-57336043-cedc-480d-b515-40e97725a12c\" name=\"files[]\" multiple disabled\n",
              "        style=\"border:none\" />\n",
              "     <output id=\"result-57336043-cedc-480d-b515-40e97725a12c\">\n",
              "      Upload widget is only available when the cell has been executed in the\n",
              "      current browser session. Please rerun this cell to enable.\n",
              "      </output>\n",
              "      <script>// Copyright 2017 Google LLC\n",
              "//\n",
              "// Licensed under the Apache License, Version 2.0 (the \"License\");\n",
              "// you may not use this file except in compliance with the License.\n",
              "// You may obtain a copy of the License at\n",
              "//\n",
              "//      http://www.apache.org/licenses/LICENSE-2.0\n",
              "//\n",
              "// Unless required by applicable law or agreed to in writing, software\n",
              "// distributed under the License is distributed on an \"AS IS\" BASIS,\n",
              "// WITHOUT WARRANTIES OR CONDITIONS OF ANY KIND, either express or implied.\n",
              "// See the License for the specific language governing permissions and\n",
              "// limitations under the License.\n",
              "\n",
              "/**\n",
              " * @fileoverview Helpers for google.colab Python module.\n",
              " */\n",
              "(function(scope) {\n",
              "function span(text, styleAttributes = {}) {\n",
              "  const element = document.createElement('span');\n",
              "  element.textContent = text;\n",
              "  for (const key of Object.keys(styleAttributes)) {\n",
              "    element.style[key] = styleAttributes[key];\n",
              "  }\n",
              "  return element;\n",
              "}\n",
              "\n",
              "// Max number of bytes which will be uploaded at a time.\n",
              "const MAX_PAYLOAD_SIZE = 100 * 1024;\n",
              "\n",
              "function _uploadFiles(inputId, outputId) {\n",
              "  const steps = uploadFilesStep(inputId, outputId);\n",
              "  const outputElement = document.getElementById(outputId);\n",
              "  // Cache steps on the outputElement to make it available for the next call\n",
              "  // to uploadFilesContinue from Python.\n",
              "  outputElement.steps = steps;\n",
              "\n",
              "  return _uploadFilesContinue(outputId);\n",
              "}\n",
              "\n",
              "// This is roughly an async generator (not supported in the browser yet),\n",
              "// where there are multiple asynchronous steps and the Python side is going\n",
              "// to poll for completion of each step.\n",
              "// This uses a Promise to block the python side on completion of each step,\n",
              "// then passes the result of the previous step as the input to the next step.\n",
              "function _uploadFilesContinue(outputId) {\n",
              "  const outputElement = document.getElementById(outputId);\n",
              "  const steps = outputElement.steps;\n",
              "\n",
              "  const next = steps.next(outputElement.lastPromiseValue);\n",
              "  return Promise.resolve(next.value.promise).then((value) => {\n",
              "    // Cache the last promise value to make it available to the next\n",
              "    // step of the generator.\n",
              "    outputElement.lastPromiseValue = value;\n",
              "    return next.value.response;\n",
              "  });\n",
              "}\n",
              "\n",
              "/**\n",
              " * Generator function which is called between each async step of the upload\n",
              " * process.\n",
              " * @param {string} inputId Element ID of the input file picker element.\n",
              " * @param {string} outputId Element ID of the output display.\n",
              " * @return {!Iterable<!Object>} Iterable of next steps.\n",
              " */\n",
              "function* uploadFilesStep(inputId, outputId) {\n",
              "  const inputElement = document.getElementById(inputId);\n",
              "  inputElement.disabled = false;\n",
              "\n",
              "  const outputElement = document.getElementById(outputId);\n",
              "  outputElement.innerHTML = '';\n",
              "\n",
              "  const pickedPromise = new Promise((resolve) => {\n",
              "    inputElement.addEventListener('change', (e) => {\n",
              "      resolve(e.target.files);\n",
              "    });\n",
              "  });\n",
              "\n",
              "  const cancel = document.createElement('button');\n",
              "  inputElement.parentElement.appendChild(cancel);\n",
              "  cancel.textContent = 'Cancel upload';\n",
              "  const cancelPromise = new Promise((resolve) => {\n",
              "    cancel.onclick = () => {\n",
              "      resolve(null);\n",
              "    };\n",
              "  });\n",
              "\n",
              "  // Wait for the user to pick the files.\n",
              "  const files = yield {\n",
              "    promise: Promise.race([pickedPromise, cancelPromise]),\n",
              "    response: {\n",
              "      action: 'starting',\n",
              "    }\n",
              "  };\n",
              "\n",
              "  cancel.remove();\n",
              "\n",
              "  // Disable the input element since further picks are not allowed.\n",
              "  inputElement.disabled = true;\n",
              "\n",
              "  if (!files) {\n",
              "    return {\n",
              "      response: {\n",
              "        action: 'complete',\n",
              "      }\n",
              "    };\n",
              "  }\n",
              "\n",
              "  for (const file of files) {\n",
              "    const li = document.createElement('li');\n",
              "    li.append(span(file.name, {fontWeight: 'bold'}));\n",
              "    li.append(span(\n",
              "        `(${file.type || 'n/a'}) - ${file.size} bytes, ` +\n",
              "        `last modified: ${\n",
              "            file.lastModifiedDate ? file.lastModifiedDate.toLocaleDateString() :\n",
              "                                    'n/a'} - `));\n",
              "    const percent = span('0% done');\n",
              "    li.appendChild(percent);\n",
              "\n",
              "    outputElement.appendChild(li);\n",
              "\n",
              "    const fileDataPromise = new Promise((resolve) => {\n",
              "      const reader = new FileReader();\n",
              "      reader.onload = (e) => {\n",
              "        resolve(e.target.result);\n",
              "      };\n",
              "      reader.readAsArrayBuffer(file);\n",
              "    });\n",
              "    // Wait for the data to be ready.\n",
              "    let fileData = yield {\n",
              "      promise: fileDataPromise,\n",
              "      response: {\n",
              "        action: 'continue',\n",
              "      }\n",
              "    };\n",
              "\n",
              "    // Use a chunked sending to avoid message size limits. See b/62115660.\n",
              "    let position = 0;\n",
              "    do {\n",
              "      const length = Math.min(fileData.byteLength - position, MAX_PAYLOAD_SIZE);\n",
              "      const chunk = new Uint8Array(fileData, position, length);\n",
              "      position += length;\n",
              "\n",
              "      const base64 = btoa(String.fromCharCode.apply(null, chunk));\n",
              "      yield {\n",
              "        response: {\n",
              "          action: 'append',\n",
              "          file: file.name,\n",
              "          data: base64,\n",
              "        },\n",
              "      };\n",
              "\n",
              "      let percentDone = fileData.byteLength === 0 ?\n",
              "          100 :\n",
              "          Math.round((position / fileData.byteLength) * 100);\n",
              "      percent.textContent = `${percentDone}% done`;\n",
              "\n",
              "    } while (position < fileData.byteLength);\n",
              "  }\n",
              "\n",
              "  // All done.\n",
              "  yield {\n",
              "    response: {\n",
              "      action: 'complete',\n",
              "    }\n",
              "  };\n",
              "}\n",
              "\n",
              "scope.google = scope.google || {};\n",
              "scope.google.colab = scope.google.colab || {};\n",
              "scope.google.colab._files = {\n",
              "  _uploadFiles,\n",
              "  _uploadFilesContinue,\n",
              "};\n",
              "})(self);\n",
              "</script> "
            ]
          },
          "metadata": {}
        },
        {
          "output_type": "stream",
          "name": "stdout",
          "text": [
            "Saving agaricus-lepiota.txt to agaricus-lepiota.txt\n"
          ]
        }
      ],
      "source": [
        "uploaded = files.upload()"
      ]
    },
    {
      "cell_type": "code",
      "execution_count": null,
      "metadata": {
        "colab": {
          "base_uri": "https://localhost:8080/"
        },
        "id": "ljwFsSd_T_zp",
        "outputId": "bbaa769f-5bb4-46b8-cb26-3c395ad5d19b"
      },
      "outputs": [
        {
          "output_type": "stream",
          "name": "stdout",
          "text": [
            "   Poisonous  CapShape  CapSurface  CapColor  Bruises  Odor  GillAttach  \\\n",
            "0          1         2           3         0        0     7           2   \n",
            "1          0         2           3         9        0     0           2   \n",
            "2          0         0           3         8        0     1           2   \n",
            "3          1         2           2         8        0     7           2   \n",
            "4          0         2           3         3        1     6           2   \n",
            "\n",
            "   GillSpacing  GillSize  GillColor  ...  StalkSurfaceBelowRing  \\\n",
            "0            0         1          0  ...                      3   \n",
            "1            0         0          0  ...                      3   \n",
            "2            0         0          1  ...                      3   \n",
            "3            0         1          1  ...                      3   \n",
            "4            1         0          0  ...                      3   \n",
            "\n",
            "   StalkColorAboveRing  StalkColorBelowRing  VeilType  VeilColor  RingNumber  \\\n",
            "0                    7                    7         0          2           1   \n",
            "1                    7                    7         0          2           1   \n",
            "2                    7                    7         0          2           1   \n",
            "3                    7                    7         0          2           1   \n",
            "4                    7                    7         0          2           1   \n",
            "\n",
            "   RingType  SporePrintColor  Population  Habitat  \n",
            "0         5                0           3        4  \n",
            "1         5                1           2        0  \n",
            "2         5                1           2        2  \n",
            "3         5                0           3        4  \n",
            "4         1                1           0        0  \n",
            "\n",
            "[5 rows x 23 columns]\n"
          ]
        }
      ],
      "source": [
        "data = pd.read_csv(\"agaricus-lepiota.txt\", sep=\",\")\n",
        "print(data.head())"
      ]
    },
    {
      "cell_type": "code",
      "execution_count": null,
      "metadata": {
        "colab": {
          "base_uri": "https://localhost:8080/"
        },
        "id": "YLk7JH02UPYu",
        "outputId": "1ff3bc0c-5e3b-4cc1-ebb8-b7ff96fea03f"
      },
      "outputs": [
        {
          "output_type": "execute_result",
          "data": {
            "text/plain": [
              "Index(['Poisonous', 'CapShape', 'CapSurface', 'CapColor', 'Bruises', 'Odor',\n",
              "       'GillAttach', 'GillSpacing', 'GillSize', 'GillColor', 'StalkShape',\n",
              "       'StalkRoot', 'StalkSurfaceAboveRing', 'StalkSurfaceBelowRing',\n",
              "       'StalkColorAboveRing', 'StalkColorBelowRing', 'VeilType', 'VeilColor',\n",
              "       'RingNumber', 'RingType', 'SporePrintColor', 'Population', 'Habitat'],\n",
              "      dtype='object')"
            ]
          },
          "metadata": {},
          "execution_count": 4
        }
      ],
      "source": [
        "data.columns"
      ]
    },
    {
      "cell_type": "code",
      "execution_count": null,
      "metadata": {
        "id": "v7pVxpjhUSZn",
        "colab": {
          "base_uri": "https://localhost:8080/"
        },
        "outputId": "35b34e1b-5b7a-48fd-f627-6a6f4f2a82f0"
      },
      "outputs": [
        {
          "output_type": "stream",
          "name": "stdout",
          "text": [
            "<class 'pandas.core.frame.DataFrame'>\n",
            "RangeIndex: 5644 entries, 0 to 5643\n",
            "Data columns (total 23 columns):\n",
            " #   Column                 Non-Null Count  Dtype\n",
            "---  ------                 --------------  -----\n",
            " 0   Poisonous              5644 non-null   int64\n",
            " 1   CapShape               5644 non-null   int64\n",
            " 2   CapSurface             5644 non-null   int64\n",
            " 3   CapColor               5644 non-null   int64\n",
            " 4   Bruises                5644 non-null   int64\n",
            " 5   Odor                   5644 non-null   int64\n",
            " 6   GillAttach             5644 non-null   int64\n",
            " 7   GillSpacing            5644 non-null   int64\n",
            " 8   GillSize               5644 non-null   int64\n",
            " 9   GillColor              5644 non-null   int64\n",
            " 10  StalkShape             5644 non-null   int64\n",
            " 11  StalkRoot              5644 non-null   int64\n",
            " 12  StalkSurfaceAboveRing  5644 non-null   int64\n",
            " 13  StalkSurfaceBelowRing  5644 non-null   int64\n",
            " 14  StalkColorAboveRing    5644 non-null   int64\n",
            " 15  StalkColorBelowRing    5644 non-null   int64\n",
            " 16  VeilType               5644 non-null   int64\n",
            " 17  VeilColor              5644 non-null   int64\n",
            " 18  RingNumber             5644 non-null   int64\n",
            " 19  RingType               5644 non-null   int64\n",
            " 20  SporePrintColor        5644 non-null   int64\n",
            " 21  Population             5644 non-null   int64\n",
            " 22  Habitat                5644 non-null   int64\n",
            "dtypes: int64(23)\n",
            "memory usage: 1014.3 KB\n"
          ]
        }
      ],
      "source": [
        "data.info()"
      ]
    },
    {
      "cell_type": "code",
      "execution_count": null,
      "metadata": {
        "id": "RPMtnBrSUY6v",
        "colab": {
          "base_uri": "https://localhost:8080/",
          "height": 394
        },
        "outputId": "fca998ac-6abd-4c48-9bde-83a6fc7bf431"
      },
      "outputs": [
        {
          "output_type": "execute_result",
          "data": {
            "text/plain": [
              "         Poisonous     CapShape   CapSurface     CapColor      Bruises  \\\n",
              "count  5644.000000  5644.000000  5644.000000  5644.000000  5644.000000   \n",
              "mean      0.381999     2.353650     1.457123     4.683912     0.435861   \n",
              "std       0.485919     0.771883     1.208440     3.388802     0.495913   \n",
              "min       0.000000     0.000000     0.000000     0.000000     0.000000   \n",
              "25%       0.000000     2.000000     0.000000     3.000000     0.000000   \n",
              "50%       0.000000     2.000000     2.000000     3.000000     0.000000   \n",
              "75%       1.000000     3.000000     2.000000     8.000000     1.000000   \n",
              "max       1.000000     5.000000     3.000000     9.000000     1.000000   \n",
              "\n",
              "              Odor   GillAttach  GillSpacing     GillSize    GillColor  ...  \\\n",
              "count  5644.000000  5644.000000  5644.000000  5644.000000  5644.000000  ...   \n",
              "mean      4.562013     1.993622     0.181432     0.124734     5.194543  ...   \n",
              "std       1.993668     0.112776     0.385410     0.330447     3.369406  ...   \n",
              "min       0.000000     0.000000     0.000000     0.000000     0.000000  ...   \n",
              "25%       4.000000     2.000000     0.000000     0.000000     3.000000  ...   \n",
              "50%       6.000000     2.000000     0.000000     0.000000     7.000000  ...   \n",
              "75%       6.000000     2.000000     0.000000     0.000000     8.000000  ...   \n",
              "max       7.000000     2.000000     1.000000     1.000000    11.000000  ...   \n",
              "\n",
              "       StalkSurfaceBelowRing  StalkColorAboveRing  StalkColorBelowRing  \\\n",
              "count            5644.000000          5644.000000          5644.000000   \n",
              "mean                2.387668             5.189227             5.129695   \n",
              "std                 0.955855             2.423887             2.464314   \n",
              "min                 0.000000             0.000000             0.000000   \n",
              "25%                 2.000000             3.000000             3.000000   \n",
              "50%                 3.000000             7.000000             7.000000   \n",
              "75%                 3.000000             7.000000             7.000000   \n",
              "max                 3.000000             8.000000             8.000000   \n",
              "\n",
              "       VeilType    VeilColor   RingNumber     RingType  SporePrintColor  \\\n",
              "count    5644.0  5644.000000  5644.000000  5644.000000      5644.000000   \n",
              "mean        0.0     2.001417     1.014883     3.950390         1.467753   \n",
              "std         0.0     0.037625     0.165600     1.469527         1.583470   \n",
              "min         0.0     2.000000     0.000000     1.000000         0.000000   \n",
              "25%         0.0     2.000000     1.000000     3.000000         0.000000   \n",
              "50%         0.0     2.000000     1.000000     5.000000         1.000000   \n",
              "75%         0.0     2.000000     1.000000     5.000000         3.000000   \n",
              "max         0.0     3.000000     2.000000     5.000000         7.000000   \n",
              "\n",
              "        Population      Habitat  \n",
              "count  5644.000000  5644.000000  \n",
              "mean      3.712970     3.326719  \n",
              "std       1.328741     2.645099  \n",
              "min       0.000000     0.000000  \n",
              "25%       3.000000     0.000000  \n",
              "50%       4.000000     4.000000  \n",
              "75%       5.000000     6.000000  \n",
              "max       5.000000     6.000000  \n",
              "\n",
              "[8 rows x 23 columns]"
            ],
            "text/html": [
              "\n",
              "  <div id=\"df-ba34bdf3-0398-44aa-a46e-73606532301b\">\n",
              "    <div class=\"colab-df-container\">\n",
              "      <div>\n",
              "<style scoped>\n",
              "    .dataframe tbody tr th:only-of-type {\n",
              "        vertical-align: middle;\n",
              "    }\n",
              "\n",
              "    .dataframe tbody tr th {\n",
              "        vertical-align: top;\n",
              "    }\n",
              "\n",
              "    .dataframe thead th {\n",
              "        text-align: right;\n",
              "    }\n",
              "</style>\n",
              "<table border=\"1\" class=\"dataframe\">\n",
              "  <thead>\n",
              "    <tr style=\"text-align: right;\">\n",
              "      <th></th>\n",
              "      <th>Poisonous</th>\n",
              "      <th>CapShape</th>\n",
              "      <th>CapSurface</th>\n",
              "      <th>CapColor</th>\n",
              "      <th>Bruises</th>\n",
              "      <th>Odor</th>\n",
              "      <th>GillAttach</th>\n",
              "      <th>GillSpacing</th>\n",
              "      <th>GillSize</th>\n",
              "      <th>GillColor</th>\n",
              "      <th>...</th>\n",
              "      <th>StalkSurfaceBelowRing</th>\n",
              "      <th>StalkColorAboveRing</th>\n",
              "      <th>StalkColorBelowRing</th>\n",
              "      <th>VeilType</th>\n",
              "      <th>VeilColor</th>\n",
              "      <th>RingNumber</th>\n",
              "      <th>RingType</th>\n",
              "      <th>SporePrintColor</th>\n",
              "      <th>Population</th>\n",
              "      <th>Habitat</th>\n",
              "    </tr>\n",
              "  </thead>\n",
              "  <tbody>\n",
              "    <tr>\n",
              "      <th>count</th>\n",
              "      <td>5644.000000</td>\n",
              "      <td>5644.000000</td>\n",
              "      <td>5644.000000</td>\n",
              "      <td>5644.000000</td>\n",
              "      <td>5644.000000</td>\n",
              "      <td>5644.000000</td>\n",
              "      <td>5644.000000</td>\n",
              "      <td>5644.000000</td>\n",
              "      <td>5644.000000</td>\n",
              "      <td>5644.000000</td>\n",
              "      <td>...</td>\n",
              "      <td>5644.000000</td>\n",
              "      <td>5644.000000</td>\n",
              "      <td>5644.000000</td>\n",
              "      <td>5644.0</td>\n",
              "      <td>5644.000000</td>\n",
              "      <td>5644.000000</td>\n",
              "      <td>5644.000000</td>\n",
              "      <td>5644.000000</td>\n",
              "      <td>5644.000000</td>\n",
              "      <td>5644.000000</td>\n",
              "    </tr>\n",
              "    <tr>\n",
              "      <th>mean</th>\n",
              "      <td>0.381999</td>\n",
              "      <td>2.353650</td>\n",
              "      <td>1.457123</td>\n",
              "      <td>4.683912</td>\n",
              "      <td>0.435861</td>\n",
              "      <td>4.562013</td>\n",
              "      <td>1.993622</td>\n",
              "      <td>0.181432</td>\n",
              "      <td>0.124734</td>\n",
              "      <td>5.194543</td>\n",
              "      <td>...</td>\n",
              "      <td>2.387668</td>\n",
              "      <td>5.189227</td>\n",
              "      <td>5.129695</td>\n",
              "      <td>0.0</td>\n",
              "      <td>2.001417</td>\n",
              "      <td>1.014883</td>\n",
              "      <td>3.950390</td>\n",
              "      <td>1.467753</td>\n",
              "      <td>3.712970</td>\n",
              "      <td>3.326719</td>\n",
              "    </tr>\n",
              "    <tr>\n",
              "      <th>std</th>\n",
              "      <td>0.485919</td>\n",
              "      <td>0.771883</td>\n",
              "      <td>1.208440</td>\n",
              "      <td>3.388802</td>\n",
              "      <td>0.495913</td>\n",
              "      <td>1.993668</td>\n",
              "      <td>0.112776</td>\n",
              "      <td>0.385410</td>\n",
              "      <td>0.330447</td>\n",
              "      <td>3.369406</td>\n",
              "      <td>...</td>\n",
              "      <td>0.955855</td>\n",
              "      <td>2.423887</td>\n",
              "      <td>2.464314</td>\n",
              "      <td>0.0</td>\n",
              "      <td>0.037625</td>\n",
              "      <td>0.165600</td>\n",
              "      <td>1.469527</td>\n",
              "      <td>1.583470</td>\n",
              "      <td>1.328741</td>\n",
              "      <td>2.645099</td>\n",
              "    </tr>\n",
              "    <tr>\n",
              "      <th>min</th>\n",
              "      <td>0.000000</td>\n",
              "      <td>0.000000</td>\n",
              "      <td>0.000000</td>\n",
              "      <td>0.000000</td>\n",
              "      <td>0.000000</td>\n",
              "      <td>0.000000</td>\n",
              "      <td>0.000000</td>\n",
              "      <td>0.000000</td>\n",
              "      <td>0.000000</td>\n",
              "      <td>0.000000</td>\n",
              "      <td>...</td>\n",
              "      <td>0.000000</td>\n",
              "      <td>0.000000</td>\n",
              "      <td>0.000000</td>\n",
              "      <td>0.0</td>\n",
              "      <td>2.000000</td>\n",
              "      <td>0.000000</td>\n",
              "      <td>1.000000</td>\n",
              "      <td>0.000000</td>\n",
              "      <td>0.000000</td>\n",
              "      <td>0.000000</td>\n",
              "    </tr>\n",
              "    <tr>\n",
              "      <th>25%</th>\n",
              "      <td>0.000000</td>\n",
              "      <td>2.000000</td>\n",
              "      <td>0.000000</td>\n",
              "      <td>3.000000</td>\n",
              "      <td>0.000000</td>\n",
              "      <td>4.000000</td>\n",
              "      <td>2.000000</td>\n",
              "      <td>0.000000</td>\n",
              "      <td>0.000000</td>\n",
              "      <td>3.000000</td>\n",
              "      <td>...</td>\n",
              "      <td>2.000000</td>\n",
              "      <td>3.000000</td>\n",
              "      <td>3.000000</td>\n",
              "      <td>0.0</td>\n",
              "      <td>2.000000</td>\n",
              "      <td>1.000000</td>\n",
              "      <td>3.000000</td>\n",
              "      <td>0.000000</td>\n",
              "      <td>3.000000</td>\n",
              "      <td>0.000000</td>\n",
              "    </tr>\n",
              "    <tr>\n",
              "      <th>50%</th>\n",
              "      <td>0.000000</td>\n",
              "      <td>2.000000</td>\n",
              "      <td>2.000000</td>\n",
              "      <td>3.000000</td>\n",
              "      <td>0.000000</td>\n",
              "      <td>6.000000</td>\n",
              "      <td>2.000000</td>\n",
              "      <td>0.000000</td>\n",
              "      <td>0.000000</td>\n",
              "      <td>7.000000</td>\n",
              "      <td>...</td>\n",
              "      <td>3.000000</td>\n",
              "      <td>7.000000</td>\n",
              "      <td>7.000000</td>\n",
              "      <td>0.0</td>\n",
              "      <td>2.000000</td>\n",
              "      <td>1.000000</td>\n",
              "      <td>5.000000</td>\n",
              "      <td>1.000000</td>\n",
              "      <td>4.000000</td>\n",
              "      <td>4.000000</td>\n",
              "    </tr>\n",
              "    <tr>\n",
              "      <th>75%</th>\n",
              "      <td>1.000000</td>\n",
              "      <td>3.000000</td>\n",
              "      <td>2.000000</td>\n",
              "      <td>8.000000</td>\n",
              "      <td>1.000000</td>\n",
              "      <td>6.000000</td>\n",
              "      <td>2.000000</td>\n",
              "      <td>0.000000</td>\n",
              "      <td>0.000000</td>\n",
              "      <td>8.000000</td>\n",
              "      <td>...</td>\n",
              "      <td>3.000000</td>\n",
              "      <td>7.000000</td>\n",
              "      <td>7.000000</td>\n",
              "      <td>0.0</td>\n",
              "      <td>2.000000</td>\n",
              "      <td>1.000000</td>\n",
              "      <td>5.000000</td>\n",
              "      <td>3.000000</td>\n",
              "      <td>5.000000</td>\n",
              "      <td>6.000000</td>\n",
              "    </tr>\n",
              "    <tr>\n",
              "      <th>max</th>\n",
              "      <td>1.000000</td>\n",
              "      <td>5.000000</td>\n",
              "      <td>3.000000</td>\n",
              "      <td>9.000000</td>\n",
              "      <td>1.000000</td>\n",
              "      <td>7.000000</td>\n",
              "      <td>2.000000</td>\n",
              "      <td>1.000000</td>\n",
              "      <td>1.000000</td>\n",
              "      <td>11.000000</td>\n",
              "      <td>...</td>\n",
              "      <td>3.000000</td>\n",
              "      <td>8.000000</td>\n",
              "      <td>8.000000</td>\n",
              "      <td>0.0</td>\n",
              "      <td>3.000000</td>\n",
              "      <td>2.000000</td>\n",
              "      <td>5.000000</td>\n",
              "      <td>7.000000</td>\n",
              "      <td>5.000000</td>\n",
              "      <td>6.000000</td>\n",
              "    </tr>\n",
              "  </tbody>\n",
              "</table>\n",
              "<p>8 rows × 23 columns</p>\n",
              "</div>\n",
              "      <button class=\"colab-df-convert\" onclick=\"convertToInteractive('df-ba34bdf3-0398-44aa-a46e-73606532301b')\"\n",
              "              title=\"Convert this dataframe to an interactive table.\"\n",
              "              style=\"display:none;\">\n",
              "        \n",
              "  <svg xmlns=\"http://www.w3.org/2000/svg\" height=\"24px\"viewBox=\"0 0 24 24\"\n",
              "       width=\"24px\">\n",
              "    <path d=\"M0 0h24v24H0V0z\" fill=\"none\"/>\n",
              "    <path d=\"M18.56 5.44l.94 2.06.94-2.06 2.06-.94-2.06-.94-.94-2.06-.94 2.06-2.06.94zm-11 1L8.5 8.5l.94-2.06 2.06-.94-2.06-.94L8.5 2.5l-.94 2.06-2.06.94zm10 10l.94 2.06.94-2.06 2.06-.94-2.06-.94-.94-2.06-.94 2.06-2.06.94z\"/><path d=\"M17.41 7.96l-1.37-1.37c-.4-.4-.92-.59-1.43-.59-.52 0-1.04.2-1.43.59L10.3 9.45l-7.72 7.72c-.78.78-.78 2.05 0 2.83L4 21.41c.39.39.9.59 1.41.59.51 0 1.02-.2 1.41-.59l7.78-7.78 2.81-2.81c.8-.78.8-2.07 0-2.86zM5.41 20L4 18.59l7.72-7.72 1.47 1.35L5.41 20z\"/>\n",
              "  </svg>\n",
              "      </button>\n",
              "      \n",
              "  <style>\n",
              "    .colab-df-container {\n",
              "      display:flex;\n",
              "      flex-wrap:wrap;\n",
              "      gap: 12px;\n",
              "    }\n",
              "\n",
              "    .colab-df-convert {\n",
              "      background-color: #E8F0FE;\n",
              "      border: none;\n",
              "      border-radius: 50%;\n",
              "      cursor: pointer;\n",
              "      display: none;\n",
              "      fill: #1967D2;\n",
              "      height: 32px;\n",
              "      padding: 0 0 0 0;\n",
              "      width: 32px;\n",
              "    }\n",
              "\n",
              "    .colab-df-convert:hover {\n",
              "      background-color: #E2EBFA;\n",
              "      box-shadow: 0px 1px 2px rgba(60, 64, 67, 0.3), 0px 1px 3px 1px rgba(60, 64, 67, 0.15);\n",
              "      fill: #174EA6;\n",
              "    }\n",
              "\n",
              "    [theme=dark] .colab-df-convert {\n",
              "      background-color: #3B4455;\n",
              "      fill: #D2E3FC;\n",
              "    }\n",
              "\n",
              "    [theme=dark] .colab-df-convert:hover {\n",
              "      background-color: #434B5C;\n",
              "      box-shadow: 0px 1px 3px 1px rgba(0, 0, 0, 0.15);\n",
              "      filter: drop-shadow(0px 1px 2px rgba(0, 0, 0, 0.3));\n",
              "      fill: #FFFFFF;\n",
              "    }\n",
              "  </style>\n",
              "\n",
              "      <script>\n",
              "        const buttonEl =\n",
              "          document.querySelector('#df-ba34bdf3-0398-44aa-a46e-73606532301b button.colab-df-convert');\n",
              "        buttonEl.style.display =\n",
              "          google.colab.kernel.accessAllowed ? 'block' : 'none';\n",
              "\n",
              "        async function convertToInteractive(key) {\n",
              "          const element = document.querySelector('#df-ba34bdf3-0398-44aa-a46e-73606532301b');\n",
              "          const dataTable =\n",
              "            await google.colab.kernel.invokeFunction('convertToInteractive',\n",
              "                                                     [key], {});\n",
              "          if (!dataTable) return;\n",
              "\n",
              "          const docLinkHtml = 'Like what you see? Visit the ' +\n",
              "            '<a target=\"_blank\" href=https://colab.research.google.com/notebooks/data_table.ipynb>data table notebook</a>'\n",
              "            + ' to learn more about interactive tables.';\n",
              "          element.innerHTML = '';\n",
              "          dataTable['output_type'] = 'display_data';\n",
              "          await google.colab.output.renderOutput(dataTable, element);\n",
              "          const docLink = document.createElement('div');\n",
              "          docLink.innerHTML = docLinkHtml;\n",
              "          element.appendChild(docLink);\n",
              "        }\n",
              "      </script>\n",
              "    </div>\n",
              "  </div>\n",
              "  "
            ]
          },
          "metadata": {},
          "execution_count": 6
        }
      ],
      "source": [
        "data.describe()"
      ]
    },
    {
      "cell_type": "code",
      "execution_count": null,
      "metadata": {
        "id": "kv3KTy-7UxpN"
      },
      "outputs": [],
      "source": [
        "X = data.drop(\"Poisonous\", axis=1)\n",
        "y = data[\"Poisonous\"]"
      ]
    },
    {
      "cell_type": "code",
      "execution_count": null,
      "metadata": {
        "colab": {
          "base_uri": "https://localhost:8080/"
        },
        "id": "1ir295HSFcMi",
        "outputId": "951cad7e-bef2-42de-8b5f-af66c61c22b8"
      },
      "outputs": [
        {
          "output_type": "stream",
          "name": "stdout",
          "text": [
            "      CapShape  CapSurface  CapColor  Bruises  Odor  GillAttach  GillSpacing  \\\n",
            "0            2           3         0        0     7           2            0   \n",
            "1            2           3         9        0     0           2            0   \n",
            "2            0           3         8        0     1           2            0   \n",
            "3            2           2         8        0     7           2            0   \n",
            "4            2           3         3        1     6           2            1   \n",
            "...        ...         ...       ...      ...   ...         ...          ...   \n",
            "5639         0           2         0        1     6           2            0   \n",
            "5640         2           2         0        1     6           2            0   \n",
            "5641         2           2         3        0     6           2            0   \n",
            "5642         2           2         2        1     5           2            0   \n",
            "5643         3           2         2        1     5           0            0   \n",
            "\n",
            "      GillSize  GillColor  StalkShape  ...  StalkSurfaceBelowRing  \\\n",
            "0            1          0           0  ...                      3   \n",
            "1            0          0           0  ...                      3   \n",
            "2            0          1           0  ...                      3   \n",
            "3            1          1           0  ...                      3   \n",
            "4            0          0           1  ...                      3   \n",
            "...        ...        ...         ...  ...                    ...   \n",
            "5639         0         10           0  ...                      1   \n",
            "5640         0         10           0  ...                      1   \n",
            "5641         0         10           0  ...                      3   \n",
            "5642         0         11           0  ...                      1   \n",
            "5643         0         11           0  ...                      1   \n",
            "\n",
            "      StalkColorAboveRing  StalkColorBelowRing  VeilType  VeilColor  \\\n",
            "0                       7                    7         0          2   \n",
            "1                       7                    7         0          2   \n",
            "2                       7                    7         0          2   \n",
            "3                       7                    7         0          2   \n",
            "4                       7                    7         0          2   \n",
            "...                   ...                  ...       ...        ...   \n",
            "5639                    0                    0         0          2   \n",
            "5640                    0                    0         0          2   \n",
            "5641                    7                    7         0          2   \n",
            "5642                    2                    2         0          2   \n",
            "5643                    2                    2         0          2   \n",
            "\n",
            "      RingNumber  RingType  SporePrintColor  Population  Habitat  \n",
            "0              1         5                0           3        4  \n",
            "1              1         5                1           2        0  \n",
            "2              1         5                1           2        2  \n",
            "3              1         5                0           3        4  \n",
            "4              1         1                1           0        0  \n",
            "...          ...       ...              ...         ...      ...  \n",
            "5639           2         5                7           5        3  \n",
            "5640           2         5                7           5        3  \n",
            "5641           2         5                7           5        3  \n",
            "5642           0         4                7           1        6  \n",
            "5643           0         4                7           1        6  \n",
            "\n",
            "[5644 rows x 22 columns]\n"
          ]
        },
        {
          "output_type": "execute_result",
          "data": {
            "text/plain": [
              "Index(['CapShape', 'CapSurface', 'CapColor', 'Bruises', 'Odor', 'GillAttach',\n",
              "       'GillSpacing', 'GillSize', 'GillColor', 'StalkShape', 'StalkRoot',\n",
              "       'StalkSurfaceAboveRing', 'StalkSurfaceBelowRing', 'StalkColorAboveRing',\n",
              "       'StalkColorBelowRing', 'VeilType', 'VeilColor', 'RingNumber',\n",
              "       'RingType', 'SporePrintColor', 'Population', 'Habitat'],\n",
              "      dtype='object')"
            ]
          },
          "metadata": {},
          "execution_count": 8
        }
      ],
      "source": [
        "print(X)\n",
        "X.columns"
      ]
    },
    {
      "cell_type": "code",
      "execution_count": null,
      "metadata": {
        "colab": {
          "base_uri": "https://localhost:8080/"
        },
        "id": "Nr-ZE8xLFffa",
        "outputId": "a2808f04-cce8-42b9-f6d8-eab03712afe2"
      },
      "outputs": [
        {
          "output_type": "stream",
          "name": "stdout",
          "text": [
            "0       1\n",
            "1       0\n",
            "2       0\n",
            "3       1\n",
            "4       0\n",
            "       ..\n",
            "5639    0\n",
            "5640    0\n",
            "5641    0\n",
            "5642    1\n",
            "5643    1\n",
            "Name: Poisonous, Length: 5644, dtype: int64\n"
          ]
        }
      ],
      "source": [
        "print(y)"
      ]
    },
    {
      "cell_type": "code",
      "source": [
        "X_train, X_test, y_train, y_test = train_test_split(X, y, test_size=0.4)"
      ],
      "metadata": {
        "id": "D7RlUY1yC92x"
      },
      "execution_count": null,
      "outputs": []
    },
    {
      "cell_type": "code",
      "source": [
        "X_train.shape"
      ],
      "metadata": {
        "colab": {
          "base_uri": "https://localhost:8080/"
        },
        "id": "BZQV4wBEDlZM",
        "outputId": "ad3956c3-ea1e-4610-ca43-3309e36cdfa0"
      },
      "execution_count": null,
      "outputs": [
        {
          "output_type": "execute_result",
          "data": {
            "text/plain": [
              "(3386, 22)"
            ]
          },
          "metadata": {},
          "execution_count": 11
        }
      ]
    },
    {
      "cell_type": "code",
      "source": [
        "X_test.shape"
      ],
      "metadata": {
        "colab": {
          "base_uri": "https://localhost:8080/"
        },
        "id": "YfhDPxcWDpFY",
        "outputId": "bfbc3db0-4f5e-486e-967a-7d33b22b9c90"
      },
      "execution_count": null,
      "outputs": [
        {
          "output_type": "execute_result",
          "data": {
            "text/plain": [
              "(2258, 22)"
            ]
          },
          "metadata": {},
          "execution_count": 12
        }
      ]
    },
    {
      "cell_type": "code",
      "execution_count": null,
      "metadata": {
        "id": "CmLwrPMsU7Lq"
      },
      "outputs": [],
      "source": [
        "dt = tree.DecisionTreeClassifier(max_leaf_nodes=10)"
      ]
    },
    {
      "cell_type": "code",
      "source": [
        "cross_val_score(dt, X_train, y_train, cv=10)"
      ],
      "metadata": {
        "colab": {
          "base_uri": "https://localhost:8080/"
        },
        "id": "FWDJ07SrIPOH",
        "outputId": "ab848452-6591-47b8-ee5e-c56879600de1"
      },
      "execution_count": null,
      "outputs": [
        {
          "output_type": "execute_result",
          "data": {
            "text/plain": [
              "array([1., 1., 1., 1., 1., 1., 1., 1., 1., 1.])"
            ]
          },
          "metadata": {},
          "execution_count": 14
        }
      ]
    },
    {
      "cell_type": "code",
      "source": [
        "np.mean(cross_val_score(dt, X_train, y_train, cv=10))"
      ],
      "metadata": {
        "colab": {
          "base_uri": "https://localhost:8080/"
        },
        "id": "qUs1kSzLITEr",
        "outputId": "7c7806f7-6091-4c92-9335-4117dd9e9eb7"
      },
      "execution_count": null,
      "outputs": [
        {
          "output_type": "execute_result",
          "data": {
            "text/plain": [
              "1.0"
            ]
          },
          "metadata": {},
          "execution_count": 15
        }
      ]
    },
    {
      "cell_type": "code",
      "source": [
        "dt.fit(X_train, y_train)"
      ],
      "metadata": {
        "colab": {
          "base_uri": "https://localhost:8080/",
          "height": 75
        },
        "id": "HmagTpjsIMyD",
        "outputId": "555884c4-a3da-4537-d43a-d56c4004dd81"
      },
      "execution_count": null,
      "outputs": [
        {
          "output_type": "execute_result",
          "data": {
            "text/plain": [
              "DecisionTreeClassifier(max_leaf_nodes=10)"
            ],
            "text/html": [
              "<style>#sk-container-id-1 {color: black;background-color: white;}#sk-container-id-1 pre{padding: 0;}#sk-container-id-1 div.sk-toggleable {background-color: white;}#sk-container-id-1 label.sk-toggleable__label {cursor: pointer;display: block;width: 100%;margin-bottom: 0;padding: 0.3em;box-sizing: border-box;text-align: center;}#sk-container-id-1 label.sk-toggleable__label-arrow:before {content: \"▸\";float: left;margin-right: 0.25em;color: #696969;}#sk-container-id-1 label.sk-toggleable__label-arrow:hover:before {color: black;}#sk-container-id-1 div.sk-estimator:hover label.sk-toggleable__label-arrow:before {color: black;}#sk-container-id-1 div.sk-toggleable__content {max-height: 0;max-width: 0;overflow: hidden;text-align: left;background-color: #f0f8ff;}#sk-container-id-1 div.sk-toggleable__content pre {margin: 0.2em;color: black;border-radius: 0.25em;background-color: #f0f8ff;}#sk-container-id-1 input.sk-toggleable__control:checked~div.sk-toggleable__content {max-height: 200px;max-width: 100%;overflow: auto;}#sk-container-id-1 input.sk-toggleable__control:checked~label.sk-toggleable__label-arrow:before {content: \"▾\";}#sk-container-id-1 div.sk-estimator input.sk-toggleable__control:checked~label.sk-toggleable__label {background-color: #d4ebff;}#sk-container-id-1 div.sk-label input.sk-toggleable__control:checked~label.sk-toggleable__label {background-color: #d4ebff;}#sk-container-id-1 input.sk-hidden--visually {border: 0;clip: rect(1px 1px 1px 1px);clip: rect(1px, 1px, 1px, 1px);height: 1px;margin: -1px;overflow: hidden;padding: 0;position: absolute;width: 1px;}#sk-container-id-1 div.sk-estimator {font-family: monospace;background-color: #f0f8ff;border: 1px dotted black;border-radius: 0.25em;box-sizing: border-box;margin-bottom: 0.5em;}#sk-container-id-1 div.sk-estimator:hover {background-color: #d4ebff;}#sk-container-id-1 div.sk-parallel-item::after {content: \"\";width: 100%;border-bottom: 1px solid gray;flex-grow: 1;}#sk-container-id-1 div.sk-label:hover label.sk-toggleable__label {background-color: #d4ebff;}#sk-container-id-1 div.sk-serial::before {content: \"\";position: absolute;border-left: 1px solid gray;box-sizing: border-box;top: 0;bottom: 0;left: 50%;z-index: 0;}#sk-container-id-1 div.sk-serial {display: flex;flex-direction: column;align-items: center;background-color: white;padding-right: 0.2em;padding-left: 0.2em;position: relative;}#sk-container-id-1 div.sk-item {position: relative;z-index: 1;}#sk-container-id-1 div.sk-parallel {display: flex;align-items: stretch;justify-content: center;background-color: white;position: relative;}#sk-container-id-1 div.sk-item::before, #sk-container-id-1 div.sk-parallel-item::before {content: \"\";position: absolute;border-left: 1px solid gray;box-sizing: border-box;top: 0;bottom: 0;left: 50%;z-index: -1;}#sk-container-id-1 div.sk-parallel-item {display: flex;flex-direction: column;z-index: 1;position: relative;background-color: white;}#sk-container-id-1 div.sk-parallel-item:first-child::after {align-self: flex-end;width: 50%;}#sk-container-id-1 div.sk-parallel-item:last-child::after {align-self: flex-start;width: 50%;}#sk-container-id-1 div.sk-parallel-item:only-child::after {width: 0;}#sk-container-id-1 div.sk-dashed-wrapped {border: 1px dashed gray;margin: 0 0.4em 0.5em 0.4em;box-sizing: border-box;padding-bottom: 0.4em;background-color: white;}#sk-container-id-1 div.sk-label label {font-family: monospace;font-weight: bold;display: inline-block;line-height: 1.2em;}#sk-container-id-1 div.sk-label-container {text-align: center;}#sk-container-id-1 div.sk-container {/* jupyter's `normalize.less` sets `[hidden] { display: none; }` but bootstrap.min.css set `[hidden] { display: none !important; }` so we also need the `!important` here to be able to override the default hidden behavior on the sphinx rendered scikit-learn.org. See: https://github.com/scikit-learn/scikit-learn/issues/21755 */display: inline-block !important;position: relative;}#sk-container-id-1 div.sk-text-repr-fallback {display: none;}</style><div id=\"sk-container-id-1\" class=\"sk-top-container\"><div class=\"sk-text-repr-fallback\"><pre>DecisionTreeClassifier(max_leaf_nodes=10)</pre><b>In a Jupyter environment, please rerun this cell to show the HTML representation or trust the notebook. <br />On GitHub, the HTML representation is unable to render, please try loading this page with nbviewer.org.</b></div><div class=\"sk-container\" hidden><div class=\"sk-item\"><div class=\"sk-estimator sk-toggleable\"><input class=\"sk-toggleable__control sk-hidden--visually\" id=\"sk-estimator-id-1\" type=\"checkbox\" checked><label for=\"sk-estimator-id-1\" class=\"sk-toggleable__label sk-toggleable__label-arrow\">DecisionTreeClassifier</label><div class=\"sk-toggleable__content\"><pre>DecisionTreeClassifier(max_leaf_nodes=10)</pre></div></div></div></div></div>"
            ]
          },
          "metadata": {},
          "execution_count": 16
        }
      ]
    },
    {
      "cell_type": "code",
      "execution_count": null,
      "metadata": {
        "id": "H1L9NhDrWAFe",
        "colab": {
          "base_uri": "https://localhost:8080/",
          "height": 736
        },
        "outputId": "ee428aaa-fcac-47ac-9ec1-0babd9fd7eeb"
      },
      "outputs": [
        {
          "output_type": "execute_result",
          "data": {
            "text/plain": [
              "[Text(0.5833333333333334, 0.9375, 'SporePrintColor <= 2.0\\ngini = 0.475\\nsamples = 3386\\nvalue = [2075, 1311]'),\n",
              " Text(0.4166666666666667, 0.8125, 'GillSize <= 0.5\\ngini = 0.205\\nsamples = 2256\\nvalue = [1994, 262]'),\n",
              " Text(0.3333333333333333, 0.6875, 'gini = 0.0\\nsamples = 1909\\nvalue = [1909, 0]'),\n",
              " Text(0.5, 0.6875, 'StalkShape <= 0.5\\ngini = 0.37\\nsamples = 347\\nvalue = [85, 262]'),\n",
              " Text(0.4166666666666667, 0.5625, 'Population <= 4.5\\ngini = 0.28\\nsamples = 315\\nvalue = [53, 262]'),\n",
              " Text(0.3333333333333333, 0.4375, 'CapShape <= 4.0\\ngini = 0.159\\nsamples = 287\\nvalue = [25, 262]'),\n",
              " Text(0.25, 0.3125, 'CapSurface <= 1.0\\ngini = 0.12\\nsamples = 280\\nvalue = [18, 262]'),\n",
              " Text(0.16666666666666666, 0.1875, 'Odor <= 4.0\\ngini = 0.368\\nsamples = 74\\nvalue = [18, 56]'),\n",
              " Text(0.08333333333333333, 0.0625, 'gini = 0.0\\nsamples = 56\\nvalue = [0, 56]'),\n",
              " Text(0.25, 0.0625, 'gini = 0.0\\nsamples = 18\\nvalue = [18, 0]'),\n",
              " Text(0.3333333333333333, 0.1875, 'gini = 0.0\\nsamples = 206\\nvalue = [0, 206]'),\n",
              " Text(0.4166666666666667, 0.3125, 'gini = 0.0\\nsamples = 7\\nvalue = [7, 0]'),\n",
              " Text(0.5, 0.4375, 'gini = 0.0\\nsamples = 28\\nvalue = [28, 0]'),\n",
              " Text(0.5833333333333334, 0.5625, 'gini = 0.0\\nsamples = 32\\nvalue = [32, 0]'),\n",
              " Text(0.75, 0.8125, 'SporePrintColor <= 5.0\\ngini = 0.133\\nsamples = 1130\\nvalue = [81, 1049]'),\n",
              " Text(0.6666666666666666, 0.6875, 'gini = 0.0\\nsamples = 1017\\nvalue = [0, 1017]'),\n",
              " Text(0.8333333333333334, 0.6875, 'Population <= 2.5\\ngini = 0.406\\nsamples = 113\\nvalue = [81, 32]'),\n",
              " Text(0.75, 0.5625, 'gini = 0.0\\nsamples = 32\\nvalue = [0, 32]'),\n",
              " Text(0.9166666666666666, 0.5625, 'gini = 0.0\\nsamples = 81\\nvalue = [81, 0]')]"
            ]
          },
          "metadata": {},
          "execution_count": 17
        },
        {
          "output_type": "display_data",
          "data": {
            "text/plain": [
              "<Figure size 640x480 with 1 Axes>"
            ],
            "image/png": "[encoded data removed]"
          },
          "metadata": {}
        }
      ],
      "source": [
        "tree.plot_tree(dt,feature_names=X.columns)"
      ]
    },
    {
      "cell_type": "code",
      "execution_count": null,
      "metadata": {
        "colab": {
          "base_uri": "https://localhost:8080/"
        },
        "id": "l_x4DzR8LI2a",
        "outputId": "5e115e35-aba4-4caf-a6f3-cb10d8d32c0d"
      },
      "outputs": [
        {
          "output_type": "stream",
          "name": "stdout",
          "text": [
            "[0 0 0 ... 0 1 0]\n"
          ]
        }
      ],
      "source": [
        "y_pred = dt.predict(X_test)\n",
        "print(y_pred)"
      ]
    },
    {
      "cell_type": "code",
      "source": [
        "y_pred.shape"
      ],
      "metadata": {
        "colab": {
          "base_uri": "https://localhost:8080/"
        },
        "id": "Gth5SQJmEEBg",
        "outputId": "c29fd86a-89bd-4a3c-8f6a-8deef13981fc"
      },
      "execution_count": null,
      "outputs": [
        {
          "output_type": "execute_result",
          "data": {
            "text/plain": [
              "(2258,)"
            ]
          },
          "metadata": {},
          "execution_count": 19
        }
      ]
    },
    {
      "cell_type": "code",
      "source": [
        "testerror = mean_squared_error(y_test, y_pred)\n",
        "print(testerror)"
      ],
      "metadata": {
        "colab": {
          "base_uri": "https://localhost:8080/"
        },
        "id": "lFHYurdcEG6W",
        "outputId": "8b6ae928-6c4e-44d4-a961-eae9635e47b6"
      },
      "execution_count": null,
      "outputs": [
        {
          "output_type": "stream",
          "name": "stdout",
          "text": [
            "0.0\n"
          ]
        }
      ]
    },
    {
      "cell_type": "code",
      "source": [
        "testacc = accuracy_score(y_test, y_pred)\n",
        "print(testacc)"
      ],
      "metadata": {
        "colab": {
          "base_uri": "https://localhost:8080/"
        },
        "id": "tm4Rw5l5HSKQ",
        "outputId": "afbc3890-076f-4b84-cc18-089ac790d502"
      },
      "execution_count": null,
      "outputs": [
        {
          "output_type": "stream",
          "name": "stdout",
          "text": [
            "1.0\n"
          ]
        }
      ]
    },
    {
      "cell_type": "code",
      "source": [
        "y_predtrain = dt.predict(X_train)\n",
        "trainerror = mean_squared_error(y_train, y_predtrain)\n",
        "print(trainerror)"
      ],
      "metadata": {
        "colab": {
          "base_uri": "https://localhost:8080/"
        },
        "id": "pZ4gKOajIksO",
        "outputId": "90e17594-857e-43b0-c9b2-b53402613af5"
      },
      "execution_count": null,
      "outputs": [
        {
          "output_type": "stream",
          "name": "stdout",
          "text": [
            "0.0\n"
          ]
        }
      ]
    },
    {
      "cell_type": "code",
      "source": [
        "trainacc = accuracy_score(y_train, y_predtrain)\n",
        "print(trainacc)"
      ],
      "metadata": {
        "colab": {
          "base_uri": "https://localhost:8080/"
        },
        "id": "JVt7w18YIs41",
        "outputId": "ec35d46b-8e17-47f8-d5c0-b2ac0145585c"
      },
      "execution_count": null,
      "outputs": [
        {
          "output_type": "stream",
          "name": "stdout",
          "text": [
            "1.0\n"
          ]
        }
      ]
    },
    {
      "cell_type": "code",
      "source": [
        "cm = confusion_matrix(y_test, y_pred)"
      ],
      "metadata": {
        "id": "o1eHFLK4I00e"
      },
      "execution_count": null,
      "outputs": []
    },
    {
      "cell_type": "code",
      "source": [
        "disp = ConfusionMatrixDisplay(confusion_matrix=cm)\n",
        "disp.plot()\n",
        "plt.show()"
      ],
      "metadata": {
        "colab": {
          "base_uri": "https://localhost:8080/",
          "height": 451
        },
        "id": "lgLSfDNjI4pa",
        "outputId": "3dee779b-423d-4d38-dbf4-1bfbc7f24ff2"
      },
      "execution_count": null,
      "outputs": [
        {
          "output_type": "display_data",
          "data": {
            "text/plain": [
              "<Figure size 640x480 with 2 Axes>"
            ],
            "image/png": "[encoded data removed]"
          },
          "metadata": {}
        }
      ]
    },
    {
      "cell_type": "code",
      "source": [
        "target_names = ['0', '1']\n",
        "print(classification_report(y_test, y_pred, target_names=target_names))"
      ],
      "metadata": {
        "colab": {
          "base_uri": "https://localhost:8080/"
        },
        "id": "CPOU9LHqJBz_",
        "outputId": "1907a88e-066e-4df0-f4f3-ea9d92031373"
      },
      "execution_count": null,
      "outputs": [
        {
          "output_type": "stream",
          "name": "stdout",
          "text": [
            "              precision    recall  f1-score   support\n",
            "\n",
            "           0       1.00      1.00      1.00      1413\n",
            "           1       1.00      1.00      1.00       845\n",
            "\n",
            "    accuracy                           1.00      2258\n",
            "   macro avg       1.00      1.00      1.00      2258\n",
            "weighted avg       1.00      1.00      1.00      2258\n",
            "\n"
          ]
        }
      ]
    }
  ],
  "metadata": {
    "colab": {
      "provenance": []
    },
    "kernelspec": {
      "display_name": "Python 3",
      "name": "python3"
    },
    "language_info": {
      "name": "python"
    }
  },
  "nbformat": 4,
  "nbformat_minor": 0
}